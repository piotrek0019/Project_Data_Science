{
 "cells": [
  {
   "cell_type": "code",
   "execution_count": 1,
   "metadata": {},
   "outputs": [
    {
     "ename": "ModuleNotFoundError",
     "evalue": "No module named 'mainP'",
     "output_type": "error",
     "traceback": [
      "\u001b[1;31m---------------------------------------------------------------------------\u001b[0m",
      "\u001b[1;31mModuleNotFoundError\u001b[0m                       Traceback (most recent call last)",
      "\u001b[1;32m<ipython-input-1-5bbc0c5b26f5>\u001b[0m in \u001b[0;36m<module>\u001b[1;34m\u001b[0m\n\u001b[0;32m      3\u001b[0m \u001b[1;32mimport\u001b[0m \u001b[0mpandas\u001b[0m \u001b[1;32mas\u001b[0m \u001b[0mpd\u001b[0m\u001b[1;33m\u001b[0m\u001b[1;33m\u001b[0m\u001b[0m\n\u001b[0;32m      4\u001b[0m \u001b[1;32mimport\u001b[0m \u001b[0mnumpy\u001b[0m \u001b[1;32mas\u001b[0m \u001b[0mnp\u001b[0m\u001b[1;33m\u001b[0m\u001b[1;33m\u001b[0m\u001b[0m\n\u001b[1;32m----> 5\u001b[1;33m \u001b[1;32mfrom\u001b[0m \u001b[0mmainP\u001b[0m \u001b[1;32mimport\u001b[0m \u001b[0mMain\u001b[0m\u001b[1;33m\u001b[0m\u001b[1;33m\u001b[0m\u001b[0m\n\u001b[0m\u001b[0;32m      6\u001b[0m \u001b[1;33m\u001b[0m\u001b[0m\n\u001b[0;32m      7\u001b[0m \u001b[0mmn\u001b[0m \u001b[1;33m=\u001b[0m \u001b[0mMain\u001b[0m\u001b[1;33m(\u001b[0m\u001b[1;33m)\u001b[0m\u001b[1;33m\u001b[0m\u001b[1;33m\u001b[0m\u001b[0m\n",
      "\u001b[1;31mModuleNotFoundError\u001b[0m: No module named 'mainP'"
     ]
    }
   ],
   "source": [
    "#reading the excel file\n",
    "\n",
    "import pandas as pd\n",
    "import numpy as np\n",
    "from mainP import Main\n",
    "\n",
    "mn = Main()\n",
    "\n",
    "\n",
    "file = mn.file\n",
    "\n",
    "\n",
    "file.head()"
   ]
  },
  {
   "cell_type": "code",
   "execution_count": 77,
   "metadata": {},
   "outputs": [
    {
     "data": {
      "text/plain": [
       "population    3.853045e+07\n",
       "dtype: float64"
      ]
     },
     "execution_count": 77,
     "metadata": {},
     "output_type": "execute_result"
    }
   ],
   "source": [
    "df = pd.DataFrame(file, columns=['population'])\n",
    "df.mean()"
   ]
  },
  {
   "cell_type": "code",
   "execution_count": 91,
   "metadata": {},
   "outputs": [
    {
     "data": {
      "text/plain": [
       "year                      1910.0\n",
       "population            39472002.0\n",
       "Population change            0.0\n",
       "No Briths E&W           677529.0\n",
       "No Births NI             26130.0\n",
       "No Births S              89016.4\n",
       "No Births All           782408.3\n",
       " Fertility Rates %           0.0\n",
       "No births male          400215.5\n",
       "No births female        382348.5\n",
       "No deaths EW            503529.0\n",
       "No deaths NI             16271.6\n",
       "No deaths S              63189.0\n",
       "All Deaths              589416.0\n",
       "Mortality rate               0.0\n",
       "No deaths male          292886.0\n",
       "No deaths female        294875.0\n",
       "Imigration              267500.0\n",
       "Emigration              280000.0\n",
       "Migration                28386.1\n",
       "Migration rate               0.0\n",
       "EU Imgration             59500.0\n",
       "EU Emigration            43500.0\n",
       "Population growth       279656.0\n",
       "Pop. Growth rate             0.0\n",
       "dtype: float64"
      ]
     },
     "execution_count": 91,
     "metadata": {},
     "output_type": "execute_result"
    }
   ],
   "source": [
    "file.median(axis=0).round(1)"
   ]
  },
  {
   "cell_type": "code",
   "execution_count": 94,
   "metadata": {},
   "outputs": [],
   "source": [
    "# create aggregated file \n",
    "df = pd.DataFrame(file)\n",
    "r = df.rolling(window=3, min_periods=1)\n",
    "\n",
    "agr = (r[['EU Imgration', 'EU Emigration']].aggregate(np.sum))\n",
    "\n",
    "agr.to_excel('./Data/aggre1.xlsx')"
   ]
  },
  {
   "cell_type": "code",
   "execution_count": 93,
   "metadata": {},
   "outputs": [
    {
     "name": "stdout",
     "output_type": "stream",
     "text": [
      "     EU Imgration  EU Emigration\n",
      "0        200000.0       141000.0\n",
      "1        200000.0       141000.0\n",
      "2        200000.0       141000.0\n",
      "3             NaN            NaN\n",
      "4             NaN            NaN\n",
      "..            ...            ...\n",
      "214           NaN            NaN\n",
      "215           NaN            NaN\n",
      "216           NaN            NaN\n",
      "217           NaN            NaN\n",
      "218           NaN            NaN\n",
      "\n",
      "[219 rows x 2 columns]\n"
     ]
    }
   ],
   "source": [
    "#aggregation \n",
    "\n",
    "df = pd.DataFrame(file )\n",
    "r = df.rolling(window=3, min_periods=1)\n",
    "\n",
    "agr = (r[['EU Imgration', 'EU Emigration']].aggregate(np.sum))\n",
    "\n",
    "print(agr)"
   ]
  },
  {
   "cell_type": "code",
   "execution_count": 76,
   "metadata": {},
   "outputs": [
    {
     "data": {
      "text/plain": [
       "0      711991.809008\n",
       "1      731213.000000\n",
       "2      755042.000000\n",
       "3      774835.000000\n",
       "4      777165.000000\n",
       "           ...      \n",
       "214    321904.767000\n",
       "215    313253.239008\n",
       "216    304468.206358\n",
       "217    295671.987250\n",
       "218    286799.438933\n",
       "Length: 219, dtype: float64"
      ]
     },
     "execution_count": 76,
     "metadata": {},
     "output_type": "execute_result"
    }
   ],
   "source": [
    "# sum of three columns\n",
    "sum = df.apply(lambda x: x['No Briths E&W'] + x['No Births NI'] + x['No Births S'], axis=1)\n",
    "sum"
   ]
  },
  {
   "cell_type": "code",
   "execution_count": null,
   "metadata": {},
   "outputs": [],
   "source": []
  }
 ],
 "metadata": {
  "kernelspec": {
   "display_name": "Python 3",
   "language": "python",
   "name": "python3"
  },
  "language_info": {
   "codemirror_mode": {
    "name": "ipython",
    "version": 3
   },
   "file_extension": ".py",
   "mimetype": "text/x-python",
   "name": "python",
   "nbconvert_exporter": "python",
   "pygments_lexer": "ipython3",
   "version": "3.8.3"
  }
 },
 "nbformat": 4,
 "nbformat_minor": 4
}
