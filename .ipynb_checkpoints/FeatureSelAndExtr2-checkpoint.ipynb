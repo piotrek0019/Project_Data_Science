{
 "cells": [
  {
   "cell_type": "code",
   "execution_count": 2,
   "metadata": {},
   "outputs": [],
   "source": [
    "import pandas as pd\n",
    "import matplotlib.pyplot as plt\n",
    "\n",
    "from sklearn.datasets import load_boston\n",
    "\n",
    "boston = load_boston()\n",
    "import statsmodels.api as sm\n",
    "\n",
    "from mlxtend.feature_selection import SequentialFeatureSelector as SFS\n",
    "from sklearn.linear_model import LinearRegression\n",
    "\n",
    "from sklearn.decomposition import PCA\n",
    "\n",
    "from sklearn.preprocessing import StandardScaler\n",
    "\n",
    "file = pd.read_excel ('./Data/subset1.xlsx')\n",
    "\n",
    "df = pd.DataFrame(file, columns=file.columns)\n"
   ]
  },
  {
   "cell_type": "code",
   "execution_count": 3,
   "metadata": {},
   "outputs": [],
   "source": [
    "df.drop(df[pd.isnull(df['EU_Imgration'])].index, inplace=True)\n",
    "#df"
   ]
  },
  {
   "cell_type": "code",
   "execution_count": 4,
   "metadata": {},
   "outputs": [],
   "source": [
    "\n",
    "df.drop('No_Briths_E_W', axis=1, inplace=True)\n",
    "df.drop('No_Births_NI', axis=1, inplace=True)\n",
    "df.drop('No_Births_S', axis=1, inplace=True)\n",
    "df.drop('No_deaths_EW', axis=1, inplace=True)\n",
    "df.drop('No_deaths_NI', axis=1, inplace=True)\n",
    "df.drop('No_deaths_S', axis=1, inplace=True)\n",
    "df.drop('year', axis=1, inplace=True)\n",
    "df.drop('id', axis=1, inplace=True)"
   ]
  },
  {
   "cell_type": "code",
   "execution_count": 5,
   "metadata": {},
   "outputs": [],
   "source": [
    "df['EUImmigrMinusEmigr'] = df['EU_Imgration'] - df['EU_Emigration']\n",
    "\n",
    "df.drop('EU_Imgration', axis=1, inplace=True)\n",
    "df.drop('EU_Emigration', axis=1, inplace=True)\n",
    "\n",
    "X = df.drop('population',1 )\n",
    "\n",
    "Y = df['population']\n",
    "\n",
    "#df"
   ]
  },
  {
   "cell_type": "code",
   "execution_count": 6,
   "metadata": {},
   "outputs": [
    {
     "data": {
      "text/plain": [
       "('Population_change',\n",
       " 'No_Births_All',\n",
       " 'Fertility_Rates_%',\n",
       " 'No_births_female',\n",
       " 'All_Deaths',\n",
       " 'Mortality_rate',\n",
       " 'No_deaths_male',\n",
       " 'Migration',\n",
       " 'Migration_rate',\n",
       " 'Population_growth',\n",
       " 'EUImmigrMinusEmigr')"
      ]
     },
     "execution_count": 6,
     "metadata": {},
     "output_type": "execute_result"
    }
   ],
   "source": [
    "\n",
    "\n",
    "sfs = SFS(LinearRegression(),\n",
    "         k_features=11,\n",
    "          forward=True,\n",
    "          floating=False,\n",
    "          scoring = 'r2',\n",
    "          cv = 0)\n",
    "\n",
    "sfs.fit(X,Y)\n",
    "sfs.k_feature_names_"
   ]
  },
  {
   "cell_type": "code",
   "execution_count": 7,
   "metadata": {},
   "outputs": [],
   "source": [
    "def forward_selection(data, target, significance_level=0.05):\n",
    "    initial_features = data.columns.tolist()\n",
    "    best_features = []\n",
    "    while (len(initial_features)>0):\n",
    "        remaining_features = list(set(initial_features)-set(best_features))\n",
    "        new_pval = pd.Series(index=remaining_features)\n",
    "        for new_column in remaining_features:\n",
    "            model = sm.OLS(target, sm.add_constant(data[best_features+[new_column]])).fit()\n",
    "            new_pval[new_column] = model.pvalues[new_column]\n",
    "        min_p_value = new_pval.min()\n",
    "        if(min_p_value<significance_level):\n",
    "            best_features.append(new_pval.idxmin())\n",
    "        else:\n",
    "            break\n",
    "    return best_features"
   ]
  },
  {
   "cell_type": "code",
   "execution_count": 8,
   "metadata": {},
   "outputs": [
    {
     "name": "stderr",
     "output_type": "stream",
     "text": [
      "C:\\Users\\piotr\\anaconda3\\lib\\site-packages\\numpy\\core\\fromnumeric.py:2542: FutureWarning: Method .ptp is deprecated and will be removed in a future version. Use numpy.ptp instead.\n",
      "  return ptp(axis=axis, out=out, **kwargs)\n"
     ]
    },
    {
     "data": {
      "text/plain": [
       "['Mortality_rate',\n",
       " 'All_Deaths',\n",
       " 'No_deaths_male',\n",
       " 'No_deaths_female',\n",
       " 'No_births_female',\n",
       " 'Fertility_Rates_%',\n",
       " 'Population_change',\n",
       " 'Migration',\n",
       " 'No_births_male',\n",
       " 'Births_Deaths',\n",
       " 'No_Births_All']"
      ]
     },
     "execution_count": 8,
     "metadata": {},
     "output_type": "execute_result"
    }
   ],
   "source": [
    "forward_selection(X,Y)"
   ]
  },
  {
   "cell_type": "code",
   "execution_count": 15,
   "metadata": {},
   "outputs": [
    {
     "data": {
      "text/plain": [
       "array([[ 9.12140697e-01,  8.14199694e-01, -1.10798480e+00,\n",
       "         8.28242113e-01,  7.99180841e-01, -1.47587148e+00,\n",
       "         1.35972377e+00, -1.82736594e+00, -1.16408598e+00,\n",
       "        -1.81972059e+00,  2.17779018e+00,  1.99997345e+00,\n",
       "         1.83727889e+00,  1.68333655e+00,  1.02884544e+00,\n",
       "         2.98295859e+00],\n",
       "       [ 1.02116875e+00,  8.72186672e-01, -9.41043953e-01,\n",
       "         8.85498253e-01,  8.57879994e-01, -1.31417442e+00,\n",
       "         1.30448922e+00, -1.68734476e+00, -1.13708556e+00,\n",
       "        -1.47419826e+00,  1.18685033e+00,  1.08149017e+00,\n",
       "         1.91634019e+00,  1.78150687e+00,  1.12554658e+00,\n",
       "         2.82010733e+00],\n",
       "       [ 1.25403142e+00,  1.68052656e+00, -7.05504884e-02,\n",
       "         1.69953323e+00,  1.65979778e+00, -1.51068512e+00,\n",
       "         1.93127936e+00, -1.73506139e+00, -1.38645001e+00,\n",
       "        -1.57930800e+00,  8.81945760e-01,  8.04396229e-01,\n",
       "         1.24226559e+00,  1.13750483e+00,  1.34515749e+00,\n",
       "         1.76157408e+00],\n",
       "       [ 1.56134485e+00,  1.55764432e+00, -4.51496429e-02,\n",
       "         1.55275609e+00,  1.56159789e+00, -1.95456563e+00,\n",
       "         2.10602305e+00, -1.91160827e+00, -1.64416555e+00,\n",
       "        -2.26091733e+00,  1.24401993e+00,  1.16469433e+00,\n",
       "         1.30237547e+00,  1.21535069e+00,  1.63372270e+00,\n",
       "         9.47317742e-01],\n",
       "       [ 1.92845037e+00,  1.54569678e+00,  1.01844733e-01,\n",
       "         1.54552913e+00,  1.54479927e+00, -1.70518684e+00,\n",
       "         1.95627503e+00, -1.70567220e+00, -1.49564161e+00,\n",
       "        -1.88340917e+00,  1.59656584e+00,  1.52363187e+00,\n",
       "         1.61289831e+00,  1.54715014e+00,  1.97321610e+00,\n",
       "         9.26961334e-01],\n",
       "       [ 2.22266235e+00,  1.14191720e+00, -1.01855496e-01,\n",
       "         1.14193862e+00,  1.14110461e+00, -1.75935020e+00,\n",
       "         1.73000320e+00, -1.65415349e+00, -1.49611758e+00,\n",
       "        -2.01160406e+00,  1.09156765e+00,  1.05288912e+00,\n",
       "         1.78232164e+00,  1.74459509e+00,  2.23037322e+00,\n",
       "         8.25179291e-01],\n",
       "       [ 2.29305026e+00,  1.24078606e+00,  1.89265281e-01,\n",
       "         1.21831122e+00,  1.26306254e+00, -1.22855455e+00,\n",
       "         1.49042747e+00, -1.26886131e+00, -1.24190690e+00,\n",
       "        -1.11807688e+00,  7.48550011e-01,  7.33981060e-01,\n",
       "         1.35647499e+00,  1.34136534e+00,  2.26190417e+00,\n",
       "         4.38407530e-01],\n",
       "       [ 2.04413559e+00,  7.17034245e-01, -1.17637175e-01,\n",
       "         7.50237616e-01,  6.82358487e-01, -1.36098912e+00,\n",
       "         1.23236489e+00, -1.24763259e+00, -1.32693226e+00,\n",
       "        -1.30961439e+00,  1.41552875e+00,  1.41841216e+00,\n",
       "         1.03153354e+00,  1.03609519e+00,  1.98606241e+00,\n",
       "         5.60545981e-01],\n",
       "       [ 1.55820154e+00,  1.56753704e-01, -4.83590014e-01,\n",
       "         1.07458180e-01,  2.07389705e-01, -1.42609617e+00,\n",
       "         9.12664399e-01, -1.19552073e+00, -1.35295910e+00,\n",
       "        -1.42670702e+00,  1.08203938e+00,  1.10448639e+00,\n",
       "         1.36255422e+00,  1.40909486e+00,  1.49263447e+00,\n",
       "         1.82264331e+00],\n",
       "       [ 9.67359411e-01, -4.58698453e-01, -9.40430275e-01,\n",
       "        -4.93451538e-01, -4.22606276e-01, -1.14219452e+00,\n",
       "         3.58902594e-01, -9.56351271e-01, -1.21886567e+00,\n",
       "        -9.46070543e-01,  1.15826553e+00,  1.19908305e+00,\n",
       "         1.01057866e+00,  1.06712328e+00,  9.11744516e-01,\n",
       "         1.37480232e+00],\n",
       "       [ 4.39842008e-01, -6.13732588e-01, -9.77725294e-01,\n",
       "        -6.07124559e-01, -6.20109968e-01, -1.09389951e+00,\n",
       "         2.32643576e-01, -8.67073012e-01, -1.14721071e+00,\n",
       "        -9.35314249e-01,  1.52986797e+00,  1.59450312e+00,\n",
       "         8.30555805e-01,  8.97411162e-01,  4.01234039e-01,\n",
       "         1.21195105e+00],\n",
       "       [ 4.95961124e-02, -1.09747789e+00, -1.37534761e+00,\n",
       "        -1.12037830e+00, -1.07314456e+00, -3.72408649e-01,\n",
       "        -4.86656155e-01, -4.01058370e-01, -6.99972998e-01,\n",
       "         1.31382961e-01,  6.05625995e-01,  6.53111044e-01,\n",
       "         1.02226130e+00,  1.11881319e+00,  2.68383945e-02,\n",
       "         9.67674151e-01],\n",
       "       [-1.19311401e-01, -1.73086319e+00, -1.94884438e+00,\n",
       "        -1.74623267e+00, -1.71384366e+00, -4.79202197e-01,\n",
       "        -8.29152573e-01, -4.26099579e-01, -7.03001891e-01,\n",
       "        -1.18339172e-01,  6.53267334e-01,  7.08245771e-01,\n",
       "         1.16067783e-01,  1.55841677e-01, -1.35986337e-01,\n",
       "        -4.36918036e-01],\n",
       "       [-1.21095431e-01, -1.72267735e+00, -1.88601568e+00,\n",
       "        -1.76702765e+00, -1.67583080e+00, -5.75739334e-01,\n",
       "        -7.68915873e-01, -4.50576514e-01, -7.56548396e-01,\n",
       "        -2.70216776e-01,  8.34304421e-01,  9.01638790e-01,\n",
       "         5.05139149e-03,  4.19664382e-02, -1.41033451e-01,\n",
       "        -5.99769304e-01],\n",
       "       [-8.33053598e-02, -1.48831627e+00, -1.59328120e+00,\n",
       "        -1.52308292e+00, -1.45149732e+00, -4.12218323e-01,\n",
       "        -7.12867717e-01, -3.22611778e-01, -6.06315293e-01,\n",
       "        -9.94999327e-02,  7.00908672e-01,  7.68280639e-01,\n",
       "         1.49037122e-01,  2.03161088e-01, -1.09207635e-01,\n",
       "        -5.99769304e-01],\n",
       "       [-8.77798542e-02, -9.92741720e-01, -1.03042473e+00,\n",
       "        -9.86749553e-01, -9.98222747e-01,  8.73058528e-02,\n",
       "        -6.81980964e-01,  5.37253018e-03, -2.62665724e-01,\n",
       "         5.89594768e-01,  7.48550011e-01,  8.23709279e-01,\n",
       "         8.46761640e-02,  1.38565633e-01, -1.16947854e-01,\n",
       "        -6.20125713e-01],\n",
       "       [-1.01054733e-01, -5.92629208e-01, -5.61704649e-01,\n",
       "        -6.13139251e-01, -5.71106014e-01,  3.75041093e-02,\n",
       "        -3.98787111e-01,  1.04265892e-02, -2.52800186e-01,\n",
       "         4.56745110e-01,  5.29399853e-01,  5.99178961e-01,\n",
       "         1.28814759e-01,  1.92251510e-01, -1.32767388e-01,\n",
       "        -5.99769304e-01],\n",
       "       [-1.44806479e-01, -3.62337393e-01, -2.64989606e-01,\n",
       "        -3.81830040e-01, -3.42020930e-01,  1.67691788e-01,\n",
       "        -3.26331310e-01,  1.21826716e-01, -1.60894912e-01,\n",
       "         6.32934453e-01, -3.47200781e-01, -3.20158761e-01,\n",
       "         1.02494382e-01,  1.69010303e-01, -1.76530344e-01,\n",
       "        -7.05026831e-02],\n",
       "       [-2.09044270e-01, -2.07587160e-01, -4.67613374e-02,\n",
       "        -1.96400342e-01, -2.18959091e-01,  3.35865192e-01,\n",
       "        -3.23634369e-01,  2.55091533e-01,  4.19760273e-02,\n",
       "         7.38201453e-01, -2.90031175e-01, -2.58075608e-01,\n",
       "        -4.43390469e-01, -4.26200805e-01, -2.38707650e-01,\n",
       "        -3.75848811e-01],\n",
       "       [-2.70541175e-01, -2.37893695e-01, -2.22240275e-02,\n",
       "        -2.55241750e-01, -2.19871016e-01,  4.10752845e-01,\n",
       "        -3.85618808e-01,  3.31283448e-01,  1.50670023e-01,\n",
       "         7.58393091e-01, -8.04092840e-02, -3.39375496e-02,\n",
       "        -4.04705026e-01, -3.80225977e-01, -2.97823269e-01,\n",
       "        -1.72284726e-01],\n",
       "       [-3.10809240e-01,  2.02107044e-01,  4.86081965e-01,\n",
       "         2.08588936e-01,  1.95294704e-01,  1.28946568e-03,\n",
       "         1.27975152e-01,  1.15579182e-01, -1.24223670e-01,\n",
       "         1.83654773e-01, -7.08810163e-02, -2.15480232e-02,\n",
       "        -2.92724472e-01, -2.53002909e-01, -3.37045295e-01,\n",
       "        -2.74066768e-01],\n",
       "       [-3.34521475e-01,  4.63438808e-01,  8.09092789e-01,\n",
       "         4.71696752e-01,  4.54617291e-01,  8.46438799e-01,\n",
       "        -1.87310790e-01,  6.51193529e-01,  5.17057926e-01,\n",
       "         1.26252358e+00, -8.04557634e-01, -8.02354806e-01,\n",
       "        -7.30457474e-02, -5.62327598e-03, -3.60865514e-01,\n",
       "        -5.79412896e-01],\n",
       "       [-3.37609332e-01,  9.19409033e-01,  1.33511231e+00,\n",
       "         9.14825706e-01,  9.23490576e-01,  2.13184782e-01,\n",
       "         4.64007952e-01,  2.98057112e-01,  1.24924431e-01,\n",
       "         3.25688167e-01, -9.28425115e-01, -9.34907548e-01,\n",
       "        -6.86140218e-01, -6.84605454e-01, -3.65755367e-01,\n",
       "        -6.60838530e-01],\n",
       "       [-3.29144218e-01,  1.19077200e+00,  1.67078443e+00,\n",
       "         1.19574447e+00,  1.18482900e+00,  5.28886599e-01,\n",
       "         4.56881399e-01,  5.16177984e-01,  3.79438000e-01,\n",
       "         7.06939010e-01, -3.85313852e-01, -3.52498991e-01,\n",
       "        -4.96882689e-01, -4.71267325e-01, -3.60143093e-01,\n",
       "        -6.20125713e-01],\n",
       "       [-3.06709214e-01,  1.33497054e+00,  1.87545696e+00,\n",
       "         1.31202852e+00,  1.35766273e+00,  4.13052607e-01,\n",
       "         6.14735304e-01,  4.74250142e-01,  3.89130458e-01,\n",
       "         4.17211014e-01, -4.61539995e-01, -4.33283456e-01,\n",
       "        -1.42978811e-01, -7.23967173e-02, -3.41959720e-01,\n",
       "        -7.42264164e-01],\n",
       "       [-2.96379705e-01,  8.30382107e-01,  1.40094928e+00,\n",
       "         8.19896145e-01,  8.40601420e-01,  8.34252703e-01,\n",
       "         5.33196115e-02,  7.59031730e-01,  6.30187087e-01,\n",
       "         1.06906755e+00, -3.75785585e-01, -3.39719286e-01,\n",
       "        -1.27470826e-01, -5.13333757e-02, -3.34853462e-01,\n",
       "        -5.99769304e-01],\n",
       "       [-3.32435452e-01,  1.07328390e+00,  1.71177753e+00,\n",
       "         1.05083235e+00,  1.09565236e+00,  6.08109436e-01,\n",
       "         3.36905199e-01,  6.51282929e-01,  5.78068489e-01,\n",
       "         6.06704194e-01, -1.00465126e+00, -1.01886526e+00,\n",
       "        -3.04413373e-01, -2.46789213e-01, -3.69514902e-01,\n",
       "        -5.59056487e-01],\n",
       "       [-4.32712422e-01,  7.91795097e-01,  1.46790983e+00,\n",
       "         8.01152685e-01,  7.81614291e-01,  4.80274387e-01,\n",
       "         2.30504104e-01,  6.01691867e-01,  5.43257852e-01,\n",
       "         3.53113570e-01, -7.85501098e-01, -7.81678540e-01,\n",
       "        -5.99785092e-01, -5.77067824e-01, -4.61512939e-01,\n",
       "        -6.81194938e-01],\n",
       "       [-5.78110537e-01,  3.04430046e-01,  9.98352981e-01,\n",
       "         3.08647304e-01,  2.99878068e-01,  9.13607711e-01,\n",
       "        -3.26858645e-01,  8.92062563e-01,  9.24444062e-01,\n",
       "         8.30133165e-01, -4.52011727e-01, -4.18925085e-01,\n",
       "        -5.00000564e-01, -4.61812782e-01, -5.93303076e-01,\n",
       "        -6.40482121e-01],\n",
       "       [-7.32418207e-01,  2.03053384e-01,  9.27311913e-01,\n",
       "         2.06257660e-01,  1.99614347e-01,  1.17585989e+00,\n",
       "        -5.40896306e-01,  1.07363482e+00,  1.11543741e+00,\n",
       "         1.17653613e+00, -2.51918104e-01, -2.00142015e-01,\n",
       "        -5.12478326e-01, -4.73710649e-01, -7.32371477e-01,\n",
       "        -2.74066768e-01],\n",
       "       [-8.66716995e-01, -2.96590428e-01,  4.23392703e-01,\n",
       "        -3.37022914e-01, -2.54764135e-01,  4.95500398e-01,\n",
       "        -4.71303179e-01,  6.71150111e-01,  6.60346209e-01,\n",
       "         2.19131670e-01, -4.52011727e-01, -4.17634560e-01,\n",
       "        -4.69942494e-01, -4.23534729e-01, -8.53015698e-01,\n",
       "        -5.18343670e-01],\n",
       "       [-9.80302127e-01, -4.89714744e-01,  2.36264768e-01,\n",
       "        -4.56337623e-01, -5.23733926e-01,  8.70414479e-01,\n",
       "        -8.07983848e-01,  9.12195074e-01,  9.93546097e-01,\n",
       "         6.26895832e-01, -6.33048814e-01, -6.15007022e-01,\n",
       "        -5.72500554e-01, -5.38937857e-01, -9.54827842e-01,\n",
       "        -5.59056487e-01],\n",
       "       [-1.06104298e+00, -5.42686120e-01,  1.91307722e-01,\n",
       "        -5.41429199e-01, -5.43604285e-01,  9.68220451e-01,\n",
       "        -8.97465030e-01,  9.79133903e-01,  1.04942918e+00,\n",
       "         7.78396023e-01, -1.33814063e+00, -1.38558130e+00,\n",
       "        -8.31359324e-01, -8.33195588e-01, -1.02711412e+00,\n",
       "        -7.21907755e-01],\n",
       "       [-1.11109740e+00, -2.65574137e-01,  4.92996241e-01,\n",
       "        -2.68856402e-01, -2.62011536e-01,  8.40623309e-01,\n",
       "        -6.48261671e-01,  9.04539145e-01,  1.00287076e+00,\n",
       "         5.42449494e-01, -1.55729079e+00, -1.62542336e+00,\n",
       "        -1.33184090e+00, -1.40378685e+00, -1.07189928e+00,\n",
       "        -6.20125713e-01],\n",
       "       [-1.15217791e+00,  2.78476674e-01,  1.07613161e+00,\n",
       "         2.53069683e-01,  3.04437692e-01,  9.34332003e-01,\n",
       "        -3.55199123e-01,  9.64449915e-01,  1.13724544e+00,\n",
       "         5.70095055e-01, -1.32861236e+00, -1.37549510e+00,\n",
       "        -1.37228563e+00, -1.44994279e+00, -1.10863952e+00,\n",
       "        -8.23689798e-01],\n",
       "       [-1.17920522e+00, -1.74252336e-01,  5.95375602e-01,\n",
       "        -1.14852305e-01, -2.35277744e-01,  1.30594183e+00,\n",
       "        -8.55323446e-01,  1.19409442e+00,  1.44861567e+00,\n",
       "         1.00173064e+00, -7.47388027e-01, -7.39825863e-01,\n",
       "        -1.10024789e+00, -1.13943236e+00, -1.13280866e+00,\n",
       "        -8.03333390e-01],\n",
       "       [-1.16190479e+00, -1.30086999e+00, -6.04679812e-01,\n",
       "        -1.27251737e+00, -1.32915542e+00,  1.08389584e+00,\n",
       "        -1.44623975e+00,  1.05718381e+00,  1.31283471e+00,\n",
       "         6.70738736e-01, -8.52198973e-01, -8.54461490e-01,\n",
       "        -9.26160260e-01, -9.40684884e-01, -1.11733805e+00,\n",
       "        -6.40482121e-01],\n",
       "       [-1.09082751e+00, -2.00859029e+00, -1.35767792e+00,\n",
       "        -1.98173818e+00, -2.03484115e+00,  7.65788523e-01,\n",
       "        -1.71563250e+00,  8.61715596e-01,  1.03158034e+00,\n",
       "         3.22637405e-01, -1.24285795e+00, -1.28175607e+00,\n",
       "        -1.24057731e+00, -1.29960638e+00, -1.05379945e+00,\n",
       "        -7.01551347e-01],\n",
       "       [-9.76533845e-01, -1.57119199e+00, -8.87236417e-01,\n",
       "        -1.55035885e+00, -1.59154976e+00,  1.44398042e+00,\n",
       "        -1.82363067e+00,  1.28240849e+00,  1.55265815e+00,\n",
       "         1.17895787e+00, -9.85594721e-01, -1.00042210e+00,\n",
       "        -1.60921284e+00, -1.72042570e+00, -9.51736668e-01,\n",
       "        -7.42264164e-01],\n",
       "       [-8.42773077e-01, -1.05089431e+00, -3.21701432e-01,\n",
       "        -9.96121283e-01, -1.10654980e+00,  9.59655820e-01,\n",
       "        -1.21623138e+00,  9.90960704e-01,  1.25156453e+00,\n",
       "         4.64167581e-01, -1.19521661e+00, -1.23003731e+00,\n",
       "        -1.48504878e+00, -1.57873067e+00, -8.32552032e-01,\n",
       "        -7.21907755e-01],\n",
       "       [-7.01613004e-01, -1.13544632e-01,  6.97447305e-01,\n",
       "        -6.23519684e-02, -1.66163451e-01,  1.08870683e+00,\n",
       "        -6.92844061e-01,  1.08219737e+00,  1.34256113e+00,\n",
       "         6.38973074e-01, -1.61446039e+00, -1.68996631e+00,\n",
       "        -1.37038861e+00, -1.44782973e+00, -7.07219449e-01,\n",
       "        -6.81194938e-01]])"
      ]
     },
     "execution_count": 15,
     "metadata": {},
     "output_type": "execute_result"
    }
   ],
   "source": []
  },
  {
   "cell_type": "code",
   "execution_count": 6,
   "metadata": {},
   "outputs": [
    {
     "name": "stdout",
     "output_type": "stream",
     "text": [
      "Original X:  (41, 24)\n",
      "Reduced X:  (41, 4)\n"
     ]
    },
    {
     "data": {
      "image/png": "[encoded data removed]",
      "text/plain": [
       "<Figure size 432x288 with 1 Axes>"
      ]
     },
     "metadata": {
      "needs_background": "light"
     },
     "output_type": "display_data"
    }
   ],
   "source": [
    "#Standardizing the features\n",
    "sX = StandardScaler().fit_transform(X)\n",
    "#dimension reduction 16D into 4D\n",
    "pca = PCA(n_components=4).fit_transform(sX)\n",
    "#scatter plot of first two columns\n",
    "plt.scatter(pca[:,0], pca[:,1])\n",
    "\n",
    "print(\"Original X: \",X.shape)\n",
    "print(\"Reduced X: \",pca.shape)"
   ]
  },
  {
   "cell_type": "code",
   "execution_count": 11,
   "metadata": {},
   "outputs": [
    {
     "data": {
      "text/plain": [
       "<matplotlib.collections.PathCollection at 0x242ab130580>"
      ]
     },
     "execution_count": 11,
     "metadata": {},
     "output_type": "execute_result"
    },
    {
     "data": {
      "image/png": "[encoded data removed]",
      "text/plain": [
       "<Figure size 432x288 with 1 Axes>"
      ]
     },
     "metadata": {
      "needs_background": "light"
     },
     "output_type": "display_data"
    }
   ],
   "source": [
    "plt.scatter(X.values[:,0], X.values[:,1])"
   ]
  },
  {
   "cell_type": "code",
   "execution_count": 1,
   "metadata": {},
   "outputs": [
    {
     "ename": "NameError",
     "evalue": "name 'pca' is not defined",
     "output_type": "error",
     "traceback": [
      "\u001b[1;31m---------------------------------------------------------------------------\u001b[0m",
      "\u001b[1;31mNameError\u001b[0m                                 Traceback (most recent call last)",
      "\u001b[1;32m<ipython-input-1-64959de4c0d1>\u001b[0m in \u001b[0;36m<module>\u001b[1;34m\u001b[0m\n\u001b[0;32m      3\u001b[0m \u001b[1;31m#f_pca\u001b[0m\u001b[1;33m\u001b[0m\u001b[1;33m\u001b[0m\u001b[1;33m\u001b[0m\u001b[0m\n\u001b[0;32m      4\u001b[0m \u001b[1;33m\u001b[0m\u001b[0m\n\u001b[1;32m----> 5\u001b[1;33m \u001b[0mpca\u001b[0m\u001b[1;33m.\u001b[0m\u001b[0mshape\u001b[0m\u001b[1;33m\u001b[0m\u001b[1;33m\u001b[0m\u001b[0m\n\u001b[0m",
      "\u001b[1;31mNameError\u001b[0m: name 'pca' is not defined"
     ]
    }
   ],
   "source": [
    "#df_pca = pd.DataFrame(pca, columns=X.columns)\n",
    "\n",
    "#f_pca\n",
    "\n",
    "pca.shape"
   ]
  },
  {
   "cell_type": "code",
   "execution_count": null,
   "metadata": {},
   "outputs": [],
   "source": []
  }
 ],
 "metadata": {
  "kernelspec": {
   "display_name": "Python 3",
   "language": "python",
   "name": "python3"
  },
  "language_info": {
   "codemirror_mode": {
    "name": "ipython",
    "version": 3
   },
   "file_extension": ".py",
   "mimetype": "text/x-python",
   "name": "python",
   "nbconvert_exporter": "python",
   "pygments_lexer": "ipython3",
   "version": "3.8.3"
  }
 },
 "nbformat": 4,
 "nbformat_minor": 4
}
