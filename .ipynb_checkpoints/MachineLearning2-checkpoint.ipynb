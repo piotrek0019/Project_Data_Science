{
 "cells": [
  {
   "cell_type": "code",
   "execution_count": 1,
   "metadata": {},
   "outputs": [],
   "source": [
    "import pandas as pd\n",
    "import numpy as np\n",
    "import matplotlib.pyplot as plt\n",
    "%matplotlib inline\n",
    "import seaborn as sns\n",
    "\n",
    "from sklearn.model_selection import train_test_split\n",
    "from sklearn.linear_model import LinearRegression\n",
    "from sklearn.preprocessing import scale\n",
    "from sklearn import preprocessing\n",
    "from sklearn import metrics\n",
    "from sklearn.metrics import accuracy_score\n",
    "from sklearn.naive_bayes import GaussianNB\n",
    "\n",
    "\n",
    "\n",
    "import warnings\n",
    "warnings.filterwarnings('ignore')\n",
    "import statsmodels.api as sm\n",
    "\n",
    "#file = pd.read_excel ('./Data/subset1.xlsx')\n",
    "file = pd.read_excel ('./Data/Data_Collection.xlsx')\n",
    "\n",
    "df = pd.DataFrame(file, columns=file.columns)"
   ]
  },
  {
   "cell_type": "code",
   "execution_count": null,
   "metadata": {},
   "outputs": [],
   "source": []
  },
  {
   "cell_type": "code",
   "execution_count": 12,
   "metadata": {},
   "outputs": [],
   "source": [
    "#model_lin = sm.OLS.from_formula('Population_growth ~ population + No_Briths_E_W + No_Births_NI + No_Births_S + No_births_male + No_deaths_EW + No_deaths_NI + No_deaths_S + Migration + Migration_rate + EU_Imgration', data=df).fit()\n",
    "#model_lin.summary()"
   ]
  },
  {
   "cell_type": "code",
   "execution_count": 2,
   "metadata": {},
   "outputs": [],
   "source": [
    "x = pd.DataFrame(file, columns=['Births_Deaths', 'Migration']).iloc[1:218]\n",
    "y = pd.DataFrame(file, columns=['Population_growth']).iloc[1:218]"
   ]
  },
  {
   "cell_type": "code",
   "execution_count": 3,
   "metadata": {},
   "outputs": [
    {
     "name": "stdout",
     "output_type": "stream",
     "text": [
      "The best sqrt is:  15929.484235630793\n",
      "The best random_state is:  61\n"
     ]
    }
   ],
   "source": [
    "#seeking the best random_state parameter for train_test_split\n",
    "scaler = preprocessing.StandardScaler()\n",
    "lr = LinearRegression()\n",
    "sqrt = 0\n",
    "best_sqrt = 0\n",
    "best_rand_state = 0\n",
    "\n",
    "for n in range(100):\n",
    "    x_train, x_test, y_train, y_test = train_test_split(x, y, test_size=0.2, random_state=n)\n",
    "    \n",
    "    sx_train = scaler.fit_transform(x_train)\n",
    "    sx_test = scaler.fit_transform(x_test)\n",
    "    \n",
    "    lr.fit(sx_train, y_train)\n",
    "    \n",
    "    y_pred = lr.predict(sx_test)\n",
    "    \n",
    "    \n",
    "    \n",
    "    sqrt = np.sqrt(metrics.mean_squared_error(y_test, y_pred))\n",
    "    \n",
    "    if n < 1:\n",
    "        best_sqrt = sqrt\n",
    "\n",
    "    if sqrt < best_sqrt:\n",
    "        best_sqrt = sqrt\n",
    "        best_rand_state = n\n",
    "        \n",
    "print(\"The best sqrt is: \", best_sqrt)\n",
    "print(\"The best random_state is: \", best_rand_state)\n",
    "        "
   ]
  },
  {
   "cell_type": "code",
   "execution_count": 4,
   "metadata": {},
   "outputs": [],
   "source": [
    "x_train, x_test, y_train, y_test = train_test_split(x, y, test_size=0.2, random_state=61)\n",
    "    \n",
    "sx_train = scaler.fit_transform(x_train)\n",
    "sx_test = scaler.fit_transform(x_test)\n",
    "    \n",
    "lr.fit(sx_train, y_train)\n",
    "    \n",
    "y_pred = lr.predict(sx_test)"
   ]
  },
  {
   "cell_type": "code",
   "execution_count": 5,
   "metadata": {},
   "outputs": [
    {
     "name": "stdout",
     "output_type": "stream",
     "text": [
      "Mean differnce the predicted with actual numbers: 4.88 %\n",
      "R2 is: 0.9327872209401805\n"
     ]
    }
   ],
   "source": [
    "#an average difference the predicted with actual numbers\n",
    "\n",
    "check = np.column_stack((y_test, y_pred))\n",
    "\n",
    "dyf = 0\n",
    "org = 0\n",
    "for n in check:\n",
    "    dyf += np.abs(n[0] - n[1])\n",
    "    org += n[0]\n",
    "\n",
    "print(\"Mean differnce the predicted with actual numbers:\", round(((dyf / org) * 100), 2),\"%\")\n",
    "print(\"R2 is:\", lr.score(sx_test, y_test))\n"
   ]
  },
  {
   "cell_type": "code",
   "execution_count": 36,
   "metadata": {},
   "outputs": [
    {
     "name": "stdout",
     "output_type": "stream",
     "text": [
      "The best sqrt is:  37717.60526357277\n",
      "The best random_state is:  28\n"
     ]
    }
   ],
   "source": [
    "#seeking the best random_state parameter for train_test_split using sklearn.naive_bayes.GaussianNB\n",
    "scaler = preprocessing.StandardScaler()\n",
    "lrN = GaussianNB()\n",
    "sqrt = 0\n",
    "best_sqrt = 0\n",
    "best_rand_state = 0\n",
    "\n",
    "for n in range(100):\n",
    "    x_train, x_test, y_train, y_test = train_test_split(x, y, test_size=0.2, random_state=n)\n",
    "    \n",
    "    sx_train = scaler.fit_transform(x_train)\n",
    "    sx_test = scaler.fit_transform(x_test)\n",
    "    \n",
    "    lrN.fit(sx_train, np.rint(y_train.values))\n",
    "    \n",
    "    yPredN = lrN.predict(sx_test)\n",
    "    \n",
    "    sqrt = np.sqrt(metrics.mean_squared_error(y_test, y_pred_n))\n",
    "    \n",
    "    if n < 1:\n",
    "        best_sqrt = sqrt\n",
    "\n",
    "    if sqrt < best_sqrt:\n",
    "        best_sqrt = sqrt\n",
    "        best_rand_state = n\n",
    "        \n",
    "print(\"The best sqrt is: \", best_sqrt)\n",
    "print(\"The best random_state is: \", best_rand_state)"
   ]
  },
  {
   "cell_type": "code",
   "execution_count": null,
   "metadata": {},
   "outputs": [],
   "source": []
  },
  {
   "cell_type": "code",
   "execution_count": null,
   "metadata": {},
   "outputs": [],
   "source": []
  },
  {
   "cell_type": "code",
   "execution_count": null,
   "metadata": {},
   "outputs": [],
   "source": []
  }
 ],
 "metadata": {
  "kernelspec": {
   "display_name": "Python 3",
   "language": "python",
   "name": "python3"
  },
  "language_info": {
   "codemirror_mode": {
    "name": "ipython",
    "version": 3
   },
   "file_extension": ".py",
   "mimetype": "text/x-python",
   "name": "python",
   "nbconvert_exporter": "python",
   "pygments_lexer": "ipython3",
   "version": "3.8.3"
  }
 },
 "nbformat": 4,
 "nbformat_minor": 4
}
