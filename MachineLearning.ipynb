{
 "cells": [
  {
   "cell_type": "code",
   "execution_count": 66,
   "metadata": {},
   "outputs": [],
   "source": [
    "import pandas as pd\n",
    "import numpy as np\n",
    "\n",
    "from matplotlib import pyplot as plt\n",
    "import seaborn as sns\n",
    "\n",
    "\n",
    "import statsmodels.api as sm\n",
    "\n",
    "from mlxtend.feature_selection import SequentialFeatureSelector as SFS\n",
    "import seaborn as sns\n",
    "\n",
    "from sklearn.model_selection import train_test_split\n",
    "from sklearn.linear_model import LinearRegression\n",
    "from sklearn.preprocessing import scale\n",
    "from sklearn import preprocessing\n",
    "from sklearn import metrics\n",
    "from sklearn.naive_bayes import GaussianNB\n",
    "from sklearn.decomposition import PCA\n",
    "\n",
    "file = pd.read_excel ('./Data/subset1.xlsx')\n",
    "\n",
    "\n",
    "df = pd.DataFrame(file, columns=file.columns)\n"
   ]
  },
  {
   "cell_type": "code",
   "execution_count": 7,
   "metadata": {},
   "outputs": [],
   "source": [
    "df.drop(df[pd.isnull(df['EU_Imgration'])].index, inplace=True)"
   ]
  },
  {
   "cell_type": "code",
   "execution_count": 67,
   "metadata": {},
   "outputs": [],
   "source": [
    "df.drop('year', axis=1, inplace=True)\n",
    "df.drop('id', axis=1, inplace=True)\n",
    "df.drop('Population_growth_all', axis=1, inplace=True)\n",
    "df.drop('Pop_Growth_rate', axis=1, inplace=True)\n",
    "df.drop('Population_change', axis=1, inplace=True)\n",
    "df.drop('Mortality_rate', axis=1, inplace=True)\n",
    "df.drop('Fertility_Rates_%', axis=1, inplace=True)\n",
    "df.drop('Births_Deaths', axis=1, inplace=True)\n"
   ]
  },
  {
   "cell_type": "code",
   "execution_count": 68,
   "metadata": {},
   "outputs": [
    {
     "data": {
      "text/html": [
       "<div>\n",
       "<style scoped>\n",
       "    .dataframe tbody tr th:only-of-type {\n",
       "        vertical-align: middle;\n",
       "    }\n",
       "\n",
       "    .dataframe tbody tr th {\n",
       "        vertical-align: top;\n",
       "    }\n",
       "\n",
       "    .dataframe thead th {\n",
       "        text-align: right;\n",
       "    }\n",
       "</style>\n",
       "<table border=\"1\" class=\"dataframe\">\n",
       "  <thead>\n",
       "    <tr style=\"text-align: right;\">\n",
       "      <th></th>\n",
       "      <th>Population_growth</th>\n",
       "    </tr>\n",
       "  </thead>\n",
       "  <tbody>\n",
       "    <tr>\n",
       "      <th>population</th>\n",
       "      <td>0.928299</td>\n",
       "    </tr>\n",
       "    <tr>\n",
       "      <th>No_Briths_E&amp;W</th>\n",
       "      <td>0.576039</td>\n",
       "    </tr>\n",
       "    <tr>\n",
       "      <th>No_Births_NI</th>\n",
       "      <td>-0.525631</td>\n",
       "    </tr>\n",
       "    <tr>\n",
       "      <th>No_Births_S</th>\n",
       "      <td>-0.718065</td>\n",
       "    </tr>\n",
       "    <tr>\n",
       "      <th>No_Births_All</th>\n",
       "      <td>0.444334</td>\n",
       "    </tr>\n",
       "    <tr>\n",
       "      <th>No_births_male</th>\n",
       "      <td>0.436310</td>\n",
       "    </tr>\n",
       "    <tr>\n",
       "      <th>No_births_female</th>\n",
       "      <td>0.452286</td>\n",
       "    </tr>\n",
       "    <tr>\n",
       "      <th>No_deaths_EW</th>\n",
       "      <td>-0.929386</td>\n",
       "    </tr>\n",
       "    <tr>\n",
       "      <th>No_deaths_NI</th>\n",
       "      <td>-0.838130</td>\n",
       "    </tr>\n",
       "    <tr>\n",
       "      <th>No_deaths_S</th>\n",
       "      <td>-0.909024</td>\n",
       "    </tr>\n",
       "    <tr>\n",
       "      <th>All_Deaths</th>\n",
       "      <td>-0.930235</td>\n",
       "    </tr>\n",
       "    <tr>\n",
       "      <th>No_deaths_male</th>\n",
       "      <td>-0.933309</td>\n",
       "    </tr>\n",
       "    <tr>\n",
       "      <th>No_deaths_female</th>\n",
       "      <td>-0.856813</td>\n",
       "    </tr>\n",
       "    <tr>\n",
       "      <th>Imigration</th>\n",
       "      <td>0.921743</td>\n",
       "    </tr>\n",
       "    <tr>\n",
       "      <th>Emigration</th>\n",
       "      <td>0.782541</td>\n",
       "    </tr>\n",
       "    <tr>\n",
       "      <th>Migration</th>\n",
       "      <td>0.912909</td>\n",
       "    </tr>\n",
       "    <tr>\n",
       "      <th>Migration_rate</th>\n",
       "      <td>0.902112</td>\n",
       "    </tr>\n",
       "    <tr>\n",
       "      <th>EU_Imgration</th>\n",
       "      <td>0.933731</td>\n",
       "    </tr>\n",
       "    <tr>\n",
       "      <th>EU_Emigration</th>\n",
       "      <td>0.868951</td>\n",
       "    </tr>\n",
       "    <tr>\n",
       "      <th>Population_growth</th>\n",
       "      <td>1.000000</td>\n",
       "    </tr>\n",
       "  </tbody>\n",
       "</table>\n",
       "</div>"
      ],
      "text/plain": [
       "                   Population_growth\n",
       "population                  0.928299\n",
       "No_Briths_E&W               0.576039\n",
       "No_Births_NI               -0.525631\n",
       "No_Births_S                -0.718065\n",
       "No_Births_All               0.444334\n",
       "No_births_male              0.436310\n",
       "No_births_female            0.452286\n",
       "No_deaths_EW               -0.929386\n",
       "No_deaths_NI               -0.838130\n",
       "No_deaths_S                -0.909024\n",
       "All_Deaths                 -0.930235\n",
       "No_deaths_male             -0.933309\n",
       "No_deaths_female           -0.856813\n",
       "Imigration                  0.921743\n",
       "Emigration                  0.782541\n",
       "Migration                   0.912909\n",
       "Migration_rate              0.902112\n",
       "EU_Imgration                0.933731\n",
       "EU_Emigration               0.868951\n",
       "Population_growth           1.000000"
      ]
     },
     "execution_count": 68,
     "metadata": {},
     "output_type": "execute_result"
    }
   ],
   "source": [
    "corr = df.corr()\n",
    "corr.iloc[:,19:20]\n"
   ]
  },
  {
   "cell_type": "code",
   "execution_count": 69,
   "metadata": {},
   "outputs": [],
   "source": [
    "X = df.drop('Population_growth',1 )\n",
    "Y = df['Population_growth']\n"
   ]
  },
  {
   "cell_type": "code",
   "execution_count": 70,
   "metadata": {},
   "outputs": [
    {
     "data": {
      "text/plain": [
       "('population',\n",
       " 'No_Briths_E&W',\n",
       " 'No_Births_NI',\n",
       " 'No_Births_S',\n",
       " 'No_births_male',\n",
       " 'No_deaths_NI',\n",
       " 'No_deaths_S',\n",
       " 'No_deaths_female',\n",
       " 'Emigration',\n",
       " 'Migration_rate',\n",
       " 'EU_Imgration')"
      ]
     },
     "execution_count": 70,
     "metadata": {},
     "output_type": "execute_result"
    }
   ],
   "source": [
    "sfs = SFS(LinearRegression(),\n",
    "         k_features=11,\n",
    "          forward=True,\n",
    "          floating=False,\n",
    "          scoring = 'r2',\n",
    "          cv = 0)\n",
    "\n",
    "sfs.fit(X,Y)\n",
    "sfs.k_feature_names_"
   ]
  },
  {
   "cell_type": "code",
   "execution_count": 62,
   "metadata": {},
   "outputs": [],
   "source": [
    "\n",
    "x = pd.DataFrame(file, columns=[\n",
    " 'population',\n",
    " 'No_Briths_E&W',\n",
    " 'No_Births_NI',\n",
    " 'No_Births_S',\n",
    " 'No_births_male',\n",
    " 'No_deaths_NI',\n",
    " 'No_deaths_S',\n",
    " 'No_deaths_female',\n",
    " 'Emigration',\n",
    " 'Migration_rate',\n",
    " 'EU_Imgration',])\n",
    "\"\"\"\n",
    "x = pd.DataFrame(file, columns=[\n",
    "    'population', \n",
    "    'No_Briths_E_W', \n",
    "    'No_Births_All', \n",
    "    'No_births_male', \n",
    "    'No_births_female',\n",
    "    'Births_Deaths',  \n",
    "    'Migration', \n",
    "    'EU_Imgration', \n",
    "    'EU_Emigration'])\n",
    "\"\"\"\n",
    "y = pd.DataFrame(file, columns=['Population_growth'])\n"
   ]
  },
  {
   "cell_type": "code",
   "execution_count": 63,
   "metadata": {
    "scrolled": true
   },
   "outputs": [],
   "source": [
    "x_train, x_test, y_train, y_test = train_test_split(x, y, test_size=0.3, random_state=1, shuffle=True)\n"
   ]
  },
  {
   "cell_type": "code",
   "execution_count": 71,
   "metadata": {},
   "outputs": [],
   "source": [
    "scaler = preprocessing.StandardScaler()\n",
    "\n",
    "sx_train = scaler.fit_transform(x_train)\n",
    "sx_test = scaler.fit_transform(x_test)"
   ]
  },
  {
   "cell_type": "code",
   "execution_count": 72,
   "metadata": {},
   "outputs": [
    {
     "data": {
      "text/plain": [
       "LinearRegression(copy_X=True, fit_intercept=True, n_jobs=None, normalize=False)"
      ]
     },
     "execution_count": 72,
     "metadata": {},
     "output_type": "execute_result"
    }
   ],
   "source": [
    "lr = LinearRegression()\n",
    "lr.fit(sx_train, y_train)"
   ]
  },
  {
   "cell_type": "code",
   "execution_count": 73,
   "metadata": {},
   "outputs": [],
   "source": [
    "y_pred = lr.predict(sx_test)"
   ]
  },
  {
   "cell_type": "code",
   "execution_count": 74,
   "metadata": {},
   "outputs": [
    {
     "data": {
      "text/plain": [
       "93287.03741151966"
      ]
     },
     "execution_count": 74,
     "metadata": {},
     "output_type": "execute_result"
    }
   ],
   "source": [
    "#root mean square error\n",
    "np.sqrt(metrics.mean_squared_error(y_test, y_pred))"
   ]
  },
  {
   "cell_type": "code",
   "execution_count": 75,
   "metadata": {},
   "outputs": [
    {
     "data": {
      "text/plain": [
       "0.4870158745361315"
      ]
     },
     "execution_count": 75,
     "metadata": {},
     "output_type": "execute_result"
    },
    {
     "data": {
      "image/png": "[encoded data removed]",
      "text/plain": [
       "<Figure size 432x288 with 1 Axes>"
      ]
     },
     "metadata": {
      "needs_background": "light"
     },
     "output_type": "display_data"
    }
   ],
   "source": [
    "#compare predicted numbers with actual numbes \n",
    "check = np.column_stack((y_test, y_pred))\n",
    "pd.DataFrame(check, columns=['actual', 'predicted'])\n",
    "sns.regplot(y_test, y_pred)\n",
    "lr.score(sx_test, y_test)"
   ]
  },
  {
   "cell_type": "code",
   "execution_count": 24,
   "metadata": {},
   "outputs": [],
   "source": [
    "lrN = GaussianNB().fit(sx_train, np.hstack(y_train.values))"
   ]
  },
  {
   "cell_type": "code",
   "execution_count": 25,
   "metadata": {},
   "outputs": [],
   "source": [
    "y_pred_n = lrN.predict(sx_test)\n"
   ]
  },
  {
   "cell_type": "code",
   "execution_count": 21,
   "metadata": {},
   "outputs": [
    {
     "data": {
      "text/html": [
       "<div>\n",
       "<style scoped>\n",
       "    .dataframe tbody tr th:only-of-type {\n",
       "        vertical-align: middle;\n",
       "    }\n",
       "\n",
       "    .dataframe tbody tr th {\n",
       "        vertical-align: top;\n",
       "    }\n",
       "\n",
       "    .dataframe thead th {\n",
       "        text-align: right;\n",
       "    }\n",
       "</style>\n",
       "<table border=\"1\" class=\"dataframe\">\n",
       "  <thead>\n",
       "    <tr style=\"text-align: right;\">\n",
       "      <th></th>\n",
       "      <th>actual</th>\n",
       "      <th>predicted</th>\n",
       "    </tr>\n",
       "  </thead>\n",
       "  <tbody>\n",
       "    <tr>\n",
       "      <th>0</th>\n",
       "      <td>192565</td>\n",
       "      <td>190088</td>\n",
       "    </tr>\n",
       "    <tr>\n",
       "      <th>1</th>\n",
       "      <td>37189</td>\n",
       "      <td>198</td>\n",
       "    </tr>\n",
       "    <tr>\n",
       "      <th>2</th>\n",
       "      <td>131070</td>\n",
       "      <td>133561</td>\n",
       "    </tr>\n",
       "    <tr>\n",
       "      <th>3</th>\n",
       "      <td>470544</td>\n",
       "      <td>506383</td>\n",
       "    </tr>\n",
       "    <tr>\n",
       "      <th>4</th>\n",
       "      <td>345585</td>\n",
       "      <td>374339</td>\n",
       "    </tr>\n",
       "    <tr>\n",
       "      <th>5</th>\n",
       "      <td>121483</td>\n",
       "      <td>142105</td>\n",
       "    </tr>\n",
       "    <tr>\n",
       "      <th>6</th>\n",
       "      <td>117125</td>\n",
       "      <td>103332</td>\n",
       "    </tr>\n",
       "    <tr>\n",
       "      <th>7</th>\n",
       "      <td>376205</td>\n",
       "      <td>374339</td>\n",
       "    </tr>\n",
       "    <tr>\n",
       "      <th>8</th>\n",
       "      <td>64995</td>\n",
       "      <td>-24273</td>\n",
       "    </tr>\n",
       "    <tr>\n",
       "      <th>9</th>\n",
       "      <td>137864</td>\n",
       "      <td>142105</td>\n",
       "    </tr>\n",
       "    <tr>\n",
       "      <th>10</th>\n",
       "      <td>133063</td>\n",
       "      <td>190088</td>\n",
       "    </tr>\n",
       "    <tr>\n",
       "      <th>11</th>\n",
       "      <td>166170</td>\n",
       "      <td>229296</td>\n",
       "    </tr>\n",
       "    <tr>\n",
       "      <th>12</th>\n",
       "      <td>-44105</td>\n",
       "      <td>14775</td>\n",
       "    </tr>\n",
       "  </tbody>\n",
       "</table>\n",
       "</div>"
      ],
      "text/plain": [
       "    actual  predicted\n",
       "0   192565     190088\n",
       "1    37189        198\n",
       "2   131070     133561\n",
       "3   470544     506383\n",
       "4   345585     374339\n",
       "5   121483     142105\n",
       "6   117125     103332\n",
       "7   376205     374339\n",
       "8    64995     -24273\n",
       "9   137864     142105\n",
       "10  133063     190088\n",
       "11  166170     229296\n",
       "12  -44105      14775"
      ]
     },
     "execution_count": 21,
     "metadata": {},
     "output_type": "execute_result"
    }
   ],
   "source": [
    "#compare predicted numbers with actual numbes \n",
    "check = np.column_stack((y_test, y_pred_n))\n",
    "pd.DataFrame(check, columns=['actual', 'predicted'])\n"
   ]
  },
  {
   "cell_type": "code",
   "execution_count": 26,
   "metadata": {},
   "outputs": [
    {
     "data": {
      "text/plain": [
       "<matplotlib.axes._subplots.AxesSubplot at 0x1cf17361820>"
      ]
     },
     "execution_count": 26,
     "metadata": {},
     "output_type": "execute_result"
    },
    {
     "data": {
      "image/png": "[encoded data removed]",
      "text/plain": [
       "<Figure size 432x288 with 1 Axes>"
      ]
     },
     "metadata": {
      "needs_background": "light"
     },
     "output_type": "display_data"
    }
   ],
   "source": [
    "sns.regplot(y_test, y_pred_n)"
   ]
  },
  {
   "cell_type": "code",
   "execution_count": 27,
   "metadata": {},
   "outputs": [
    {
     "data": {
      "text/plain": [
       "41880.099572837324"
      ]
     },
     "execution_count": 27,
     "metadata": {},
     "output_type": "execute_result"
    }
   ],
   "source": [
    "np.sqrt(metrics.mean_squared_error(y_test, y_pred_n))"
   ]
  },
  {
   "cell_type": "code",
   "execution_count": 48,
   "metadata": {},
   "outputs": [],
   "source": [
    "#Standardizing the features\n",
    "sX = scaler.fit_transform(X)\n",
    "#dimension reduction 16D into 4D\n",
    "pca = PCA(n_components=4).fit_transform(sX)"
   ]
  },
  {
   "cell_type": "code",
   "execution_count": 49,
   "metadata": {},
   "outputs": [],
   "source": [
    "x_train, x_test, y_train, y_test = train_test_split(pca, y, test_size=0.3, random_state=0)"
   ]
  },
  {
   "cell_type": "code",
   "execution_count": 50,
   "metadata": {},
   "outputs": [
    {
     "data": {
      "text/plain": [
       "47725.220412818235"
      ]
     },
     "execution_count": 50,
     "metadata": {},
     "output_type": "execute_result"
    }
   ],
   "source": [
    "#linear regression after dimension reduction using PCA\n",
    "lrP = LinearRegression().fit(x_train, y_train)\n",
    "\n",
    "yP_pred = lrP.predict(x_test)\n",
    "#Root Mean Squared Error\n",
    "np.sqrt(metrics.mean_squared_error(y_test, yP_pred))"
   ]
  },
  {
   "cell_type": "code",
   "execution_count": 65,
   "metadata": {},
   "outputs": [
    {
     "name": "stdout",
     "output_type": "stream",
     "text": [
      "The best sqrt is:  28408.562988860685\n",
      "The best random_state is:  77\n"
     ]
    }
   ],
   "source": [
    "#seeking the best random_state parameter for train_test_split\n",
    "lr3 = LinearRegression()\n",
    "sqrt = 0\n",
    "best_sqrt = 0\n",
    "best_rand_state = 0\n",
    "\n",
    "for n in range(100):\n",
    "    x_train, x_test, y_train, y_test = train_test_split(pca, y, test_size=0.2, random_state=n)\n",
    "    \n",
    "   \n",
    "    \n",
    "    lr3.fit(x_train, y_train)\n",
    "    \n",
    "    y_pred = lr3.predict(x_test)\n",
    "    \n",
    "    \n",
    "    \n",
    "    sqrt = np.sqrt(metrics.mean_squared_error(y_test, y_pred))\n",
    "    \n",
    "    if n < 1:\n",
    "        best_sqrt = sqrt\n",
    "\n",
    "    if sqrt < best_sqrt:\n",
    "        best_sqrt = sqrt\n",
    "        best_rand_state = n\n",
    "        \n",
    "print(\"The best sqrt is: \", best_sqrt)\n",
    "print(\"The best random_state is: \", best_rand_state)"
   ]
  },
  {
   "cell_type": "code",
   "execution_count": null,
   "metadata": {},
   "outputs": [],
   "source": []
  }
 ],
 "metadata": {
  "kernelspec": {
   "display_name": "Python 3",
   "language": "python",
   "name": "python3"
  },
  "language_info": {
   "codemirror_mode": {
    "name": "ipython",
    "version": 3
   },
   "file_extension": ".py",
   "mimetype": "text/x-python",
   "name": "python",
   "nbconvert_exporter": "python",
   "pygments_lexer": "ipython3",
   "version": "3.8.3"
  }
 },
 "nbformat": 4,
 "nbformat_minor": 4
}
